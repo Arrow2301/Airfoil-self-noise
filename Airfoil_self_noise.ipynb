{
  "nbformat": 4,
  "nbformat_minor": 0,
  "metadata": {
    "colab": {
      "name": "Airfoil_self_noise.ipynb",
      "provenance": []
    },
    "kernelspec": {
      "name": "python3",
      "display_name": "Python 3"
    }
  },
  "cells": [
    {
      "cell_type": "code",
      "metadata": {
        "id": "VT1FUSR-50Ks",
        "colab_type": "code",
        "colab": {}
      },
      "source": [
        "from os import path\n",
        "import numpy as np\n",
        "import pandas as pd\n",
        "import tensorflow as tf"
      ],
      "execution_count": 59,
      "outputs": []
    },
    {
      "cell_type": "code",
      "metadata": {
        "id": "jnmeEqvK59q3",
        "colab_type": "code",
        "colab": {}
      },
      "source": [
        "path=\"https://archive.ics.uci.edu/ml/machine-learning-databases/00291/airfoil_self_noise.dat\""
      ],
      "execution_count": 60,
      "outputs": []
    },
    {
      "cell_type": "code",
      "metadata": {
        "id": "dZnTVZA66F0J",
        "colab_type": "code",
        "colab": {}
      },
      "source": [
        "raw=pd.read_table(path,names=(['Frequency','AoA','Chord','FrVel','SSDT','Sound_Pressure_Level']))"
      ],
      "execution_count": 61,
      "outputs": []
    },
    {
      "cell_type": "code",
      "metadata": {
        "id": "EYG0mqQb6KDF",
        "colab_type": "code",
        "colab": {
          "base_uri": "https://localhost:8080/",
          "height": 402
        },
        "outputId": "098005d9-acb7-413a-f3c8-59e6f3d92510"
      },
      "source": [
        "raw"
      ],
      "execution_count": 62,
      "outputs": [
        {
          "output_type": "execute_result",
          "data": {
            "text/html": [
              "<div>\n",
              "<style scoped>\n",
              "    .dataframe tbody tr th:only-of-type {\n",
              "        vertical-align: middle;\n",
              "    }\n",
              "\n",
              "    .dataframe tbody tr th {\n",
              "        vertical-align: top;\n",
              "    }\n",
              "\n",
              "    .dataframe thead th {\n",
              "        text-align: right;\n",
              "    }\n",
              "</style>\n",
              "<table border=\"1\" class=\"dataframe\">\n",
              "  <thead>\n",
              "    <tr style=\"text-align: right;\">\n",
              "      <th></th>\n",
              "      <th>Frequency</th>\n",
              "      <th>AoA</th>\n",
              "      <th>Chord</th>\n",
              "      <th>FrVel</th>\n",
              "      <th>SSDT</th>\n",
              "      <th>Sound_Pressure_Level</th>\n",
              "    </tr>\n",
              "  </thead>\n",
              "  <tbody>\n",
              "    <tr>\n",
              "      <th>0</th>\n",
              "      <td>800</td>\n",
              "      <td>0.0</td>\n",
              "      <td>0.3048</td>\n",
              "      <td>71.3</td>\n",
              "      <td>0.002663</td>\n",
              "      <td>126.201</td>\n",
              "    </tr>\n",
              "    <tr>\n",
              "      <th>1</th>\n",
              "      <td>1000</td>\n",
              "      <td>0.0</td>\n",
              "      <td>0.3048</td>\n",
              "      <td>71.3</td>\n",
              "      <td>0.002663</td>\n",
              "      <td>125.201</td>\n",
              "    </tr>\n",
              "    <tr>\n",
              "      <th>2</th>\n",
              "      <td>1250</td>\n",
              "      <td>0.0</td>\n",
              "      <td>0.3048</td>\n",
              "      <td>71.3</td>\n",
              "      <td>0.002663</td>\n",
              "      <td>125.951</td>\n",
              "    </tr>\n",
              "    <tr>\n",
              "      <th>3</th>\n",
              "      <td>1600</td>\n",
              "      <td>0.0</td>\n",
              "      <td>0.3048</td>\n",
              "      <td>71.3</td>\n",
              "      <td>0.002663</td>\n",
              "      <td>127.591</td>\n",
              "    </tr>\n",
              "    <tr>\n",
              "      <th>4</th>\n",
              "      <td>2000</td>\n",
              "      <td>0.0</td>\n",
              "      <td>0.3048</td>\n",
              "      <td>71.3</td>\n",
              "      <td>0.002663</td>\n",
              "      <td>127.461</td>\n",
              "    </tr>\n",
              "    <tr>\n",
              "      <th>...</th>\n",
              "      <td>...</td>\n",
              "      <td>...</td>\n",
              "      <td>...</td>\n",
              "      <td>...</td>\n",
              "      <td>...</td>\n",
              "      <td>...</td>\n",
              "    </tr>\n",
              "    <tr>\n",
              "      <th>1498</th>\n",
              "      <td>2500</td>\n",
              "      <td>15.6</td>\n",
              "      <td>0.1016</td>\n",
              "      <td>39.6</td>\n",
              "      <td>0.052849</td>\n",
              "      <td>110.264</td>\n",
              "    </tr>\n",
              "    <tr>\n",
              "      <th>1499</th>\n",
              "      <td>3150</td>\n",
              "      <td>15.6</td>\n",
              "      <td>0.1016</td>\n",
              "      <td>39.6</td>\n",
              "      <td>0.052849</td>\n",
              "      <td>109.254</td>\n",
              "    </tr>\n",
              "    <tr>\n",
              "      <th>1500</th>\n",
              "      <td>4000</td>\n",
              "      <td>15.6</td>\n",
              "      <td>0.1016</td>\n",
              "      <td>39.6</td>\n",
              "      <td>0.052849</td>\n",
              "      <td>106.604</td>\n",
              "    </tr>\n",
              "    <tr>\n",
              "      <th>1501</th>\n",
              "      <td>5000</td>\n",
              "      <td>15.6</td>\n",
              "      <td>0.1016</td>\n",
              "      <td>39.6</td>\n",
              "      <td>0.052849</td>\n",
              "      <td>106.224</td>\n",
              "    </tr>\n",
              "    <tr>\n",
              "      <th>1502</th>\n",
              "      <td>6300</td>\n",
              "      <td>15.6</td>\n",
              "      <td>0.1016</td>\n",
              "      <td>39.6</td>\n",
              "      <td>0.052849</td>\n",
              "      <td>104.204</td>\n",
              "    </tr>\n",
              "  </tbody>\n",
              "</table>\n",
              "<p>1503 rows × 6 columns</p>\n",
              "</div>"
            ],
            "text/plain": [
              "      Frequency   AoA   Chord  FrVel      SSDT  Sound_Pressure_Level\n",
              "0           800   0.0  0.3048   71.3  0.002663               126.201\n",
              "1          1000   0.0  0.3048   71.3  0.002663               125.201\n",
              "2          1250   0.0  0.3048   71.3  0.002663               125.951\n",
              "3          1600   0.0  0.3048   71.3  0.002663               127.591\n",
              "4          2000   0.0  0.3048   71.3  0.002663               127.461\n",
              "...         ...   ...     ...    ...       ...                   ...\n",
              "1498       2500  15.6  0.1016   39.6  0.052849               110.264\n",
              "1499       3150  15.6  0.1016   39.6  0.052849               109.254\n",
              "1500       4000  15.6  0.1016   39.6  0.052849               106.604\n",
              "1501       5000  15.6  0.1016   39.6  0.052849               106.224\n",
              "1502       6300  15.6  0.1016   39.6  0.052849               104.204\n",
              "\n",
              "[1503 rows x 6 columns]"
            ]
          },
          "metadata": {
            "tags": []
          },
          "execution_count": 62
        }
      ]
    },
    {
      "cell_type": "code",
      "metadata": {
        "id": "tnZdJlOd6LGo",
        "colab_type": "code",
        "colab": {
          "base_uri": "https://localhost:8080/",
          "height": 235
        },
        "outputId": "578a51a9-0fd0-461a-9d30-9f080e2d1a98"
      },
      "source": [
        "raw.info()"
      ],
      "execution_count": 63,
      "outputs": [
        {
          "output_type": "stream",
          "text": [
            "<class 'pandas.core.frame.DataFrame'>\n",
            "RangeIndex: 1503 entries, 0 to 1502\n",
            "Data columns (total 6 columns):\n",
            " #   Column                Non-Null Count  Dtype  \n",
            "---  ------                --------------  -----  \n",
            " 0   Frequency             1503 non-null   int64  \n",
            " 1   AoA                   1503 non-null   float64\n",
            " 2   Chord                 1503 non-null   float64\n",
            " 3   FrVel                 1503 non-null   float64\n",
            " 4   SSDT                  1503 non-null   float64\n",
            " 5   Sound_Pressure_Level  1503 non-null   float64\n",
            "dtypes: float64(5), int64(1)\n",
            "memory usage: 70.6 KB\n"
          ],
          "name": "stdout"
        }
      ]
    },
    {
      "cell_type": "code",
      "metadata": {
        "id": "o7Ubrvvu7PlC",
        "colab_type": "code",
        "colab": {
          "base_uri": "https://localhost:8080/",
          "height": 284
        },
        "outputId": "4ed20a61-352f-4e9e-e019-62e05912c974"
      },
      "source": [
        "raw.describe()"
      ],
      "execution_count": 64,
      "outputs": [
        {
          "output_type": "execute_result",
          "data": {
            "text/html": [
              "<div>\n",
              "<style scoped>\n",
              "    .dataframe tbody tr th:only-of-type {\n",
              "        vertical-align: middle;\n",
              "    }\n",
              "\n",
              "    .dataframe tbody tr th {\n",
              "        vertical-align: top;\n",
              "    }\n",
              "\n",
              "    .dataframe thead th {\n",
              "        text-align: right;\n",
              "    }\n",
              "</style>\n",
              "<table border=\"1\" class=\"dataframe\">\n",
              "  <thead>\n",
              "    <tr style=\"text-align: right;\">\n",
              "      <th></th>\n",
              "      <th>Frequency</th>\n",
              "      <th>AoA</th>\n",
              "      <th>Chord</th>\n",
              "      <th>FrVel</th>\n",
              "      <th>SSDT</th>\n",
              "      <th>Sound_Pressure_Level</th>\n",
              "    </tr>\n",
              "  </thead>\n",
              "  <tbody>\n",
              "    <tr>\n",
              "      <th>count</th>\n",
              "      <td>1503.000000</td>\n",
              "      <td>1503.000000</td>\n",
              "      <td>1503.000000</td>\n",
              "      <td>1503.000000</td>\n",
              "      <td>1503.000000</td>\n",
              "      <td>1503.000000</td>\n",
              "    </tr>\n",
              "    <tr>\n",
              "      <th>mean</th>\n",
              "      <td>2886.380572</td>\n",
              "      <td>6.782302</td>\n",
              "      <td>0.136548</td>\n",
              "      <td>50.860745</td>\n",
              "      <td>0.011140</td>\n",
              "      <td>124.835943</td>\n",
              "    </tr>\n",
              "    <tr>\n",
              "      <th>std</th>\n",
              "      <td>3152.573137</td>\n",
              "      <td>5.918128</td>\n",
              "      <td>0.093541</td>\n",
              "      <td>15.572784</td>\n",
              "      <td>0.013150</td>\n",
              "      <td>6.898657</td>\n",
              "    </tr>\n",
              "    <tr>\n",
              "      <th>min</th>\n",
              "      <td>200.000000</td>\n",
              "      <td>0.000000</td>\n",
              "      <td>0.025400</td>\n",
              "      <td>31.700000</td>\n",
              "      <td>0.000401</td>\n",
              "      <td>103.380000</td>\n",
              "    </tr>\n",
              "    <tr>\n",
              "      <th>25%</th>\n",
              "      <td>800.000000</td>\n",
              "      <td>2.000000</td>\n",
              "      <td>0.050800</td>\n",
              "      <td>39.600000</td>\n",
              "      <td>0.002535</td>\n",
              "      <td>120.191000</td>\n",
              "    </tr>\n",
              "    <tr>\n",
              "      <th>50%</th>\n",
              "      <td>1600.000000</td>\n",
              "      <td>5.400000</td>\n",
              "      <td>0.101600</td>\n",
              "      <td>39.600000</td>\n",
              "      <td>0.004957</td>\n",
              "      <td>125.721000</td>\n",
              "    </tr>\n",
              "    <tr>\n",
              "      <th>75%</th>\n",
              "      <td>4000.000000</td>\n",
              "      <td>9.900000</td>\n",
              "      <td>0.228600</td>\n",
              "      <td>71.300000</td>\n",
              "      <td>0.015576</td>\n",
              "      <td>129.995500</td>\n",
              "    </tr>\n",
              "    <tr>\n",
              "      <th>max</th>\n",
              "      <td>20000.000000</td>\n",
              "      <td>22.200000</td>\n",
              "      <td>0.304800</td>\n",
              "      <td>71.300000</td>\n",
              "      <td>0.058411</td>\n",
              "      <td>140.987000</td>\n",
              "    </tr>\n",
              "  </tbody>\n",
              "</table>\n",
              "</div>"
            ],
            "text/plain": [
              "          Frequency          AoA  ...         SSDT  Sound_Pressure_Level\n",
              "count   1503.000000  1503.000000  ...  1503.000000           1503.000000\n",
              "mean    2886.380572     6.782302  ...     0.011140            124.835943\n",
              "std     3152.573137     5.918128  ...     0.013150              6.898657\n",
              "min      200.000000     0.000000  ...     0.000401            103.380000\n",
              "25%      800.000000     2.000000  ...     0.002535            120.191000\n",
              "50%     1600.000000     5.400000  ...     0.004957            125.721000\n",
              "75%     4000.000000     9.900000  ...     0.015576            129.995500\n",
              "max    20000.000000    22.200000  ...     0.058411            140.987000\n",
              "\n",
              "[8 rows x 6 columns]"
            ]
          },
          "metadata": {
            "tags": []
          },
          "execution_count": 64
        }
      ]
    },
    {
      "cell_type": "code",
      "metadata": {
        "id": "T8_mIQzR7RKn",
        "colab_type": "code",
        "colab": {}
      },
      "source": [
        ""
      ],
      "execution_count": 64,
      "outputs": []
    },
    {
      "cell_type": "code",
      "metadata": {
        "id": "42AuqvRQ7X0W",
        "colab_type": "code",
        "colab": {}
      },
      "source": [
        ""
      ],
      "execution_count": 64,
      "outputs": []
    },
    {
      "cell_type": "code",
      "metadata": {
        "id": "a_LJ7zrl7fQS",
        "colab_type": "code",
        "colab": {}
      },
      "source": [
        "model=tf.keras.Sequential([\n",
        "                           tf.keras.layers.Dense(5,input_shape=[5],activation='linear'),\n",
        "                           tf.keras.layers.Dense(1,activation='linear')\n",
        "])\n"
      ],
      "execution_count": 65,
      "outputs": []
    },
    {
      "cell_type": "code",
      "metadata": {
        "id": "okankuru8Xbc",
        "colab_type": "code",
        "colab": {}
      },
      "source": [
        "model.compile(optimizer='adam',loss='mse')"
      ],
      "execution_count": 66,
      "outputs": []
    },
    {
      "cell_type": "code",
      "metadata": {
        "id": "waTMO-JZ8hNy",
        "colab_type": "code",
        "colab": {}
      },
      "source": [
        "inputs=raw.iloc[:1300,:-1]\n",
        "targets=raw.iloc[:1300,-1]\n",
        "test_inputs=raw.iloc[1300:,:-1]\n",
        "test_targets=raw.iloc[1300:,-1]"
      ],
      "execution_count": 67,
      "outputs": []
    },
    {
      "cell_type": "code",
      "metadata": {
        "id": "O5mVrOS78n39",
        "colab_type": "code",
        "colab": {}
      },
      "source": [
        "from sklearn.preprocessing import StandardScaler"
      ],
      "execution_count": 68,
      "outputs": []
    },
    {
      "cell_type": "code",
      "metadata": {
        "id": "oKO3oNS48tCR",
        "colab_type": "code",
        "colab": {}
      },
      "source": [
        "scaler=StandardScaler()"
      ],
      "execution_count": 69,
      "outputs": []
    },
    {
      "cell_type": "code",
      "metadata": {
        "id": "rqqQ1vQi8u8u",
        "colab_type": "code",
        "colab": {}
      },
      "source": [
        "train_inputs=scaler.fit_transform(inputs)\n",
        "test_inputs=scaler.transform(test_inputs)"
      ],
      "execution_count": 70,
      "outputs": []
    },
    {
      "cell_type": "code",
      "metadata": {
        "id": "-_Pj5Eln8zu3",
        "colab_type": "code",
        "colab": {
          "base_uri": "https://localhost:8080/",
          "height": 1000
        },
        "outputId": "dd31e873-efbc-4a36-bb48-1f89d2e049fa"
      },
      "source": [
        "model.fit(train_inputs,targets,batch_size=10,epochs=100,callbacks=tf.keras.callbacks.EarlyStopping(),validation_split=0.2,shuffle=True)"
      ],
      "execution_count": 71,
      "outputs": [
        {
          "output_type": "stream",
          "text": [
            "Epoch 1/100\n",
            "104/104 [==============================] - 0s 2ms/step - loss: 15503.2832 - val_loss: 15890.3291\n",
            "Epoch 2/100\n",
            "104/104 [==============================] - 0s 1ms/step - loss: 15404.2969 - val_loss: 15885.5215\n",
            "Epoch 3/100\n",
            "104/104 [==============================] - 0s 1ms/step - loss: 15285.3711 - val_loss: 15875.9336\n",
            "Epoch 4/100\n",
            "104/104 [==============================] - 0s 1ms/step - loss: 15130.3242 - val_loss: 15853.3926\n",
            "Epoch 5/100\n",
            "104/104 [==============================] - 0s 995us/step - loss: 14921.0938 - val_loss: 15816.0801\n",
            "Epoch 6/100\n",
            "104/104 [==============================] - 0s 1ms/step - loss: 14640.0576 - val_loss: 15763.3906\n",
            "Epoch 7/100\n",
            "104/104 [==============================] - 0s 1ms/step - loss: 14280.2959 - val_loss: 15692.6611\n",
            "Epoch 8/100\n",
            "104/104 [==============================] - 0s 995us/step - loss: 13850.7871 - val_loss: 15625.9268\n",
            "Epoch 9/100\n",
            "104/104 [==============================] - 0s 1ms/step - loss: 13363.0986 - val_loss: 15537.6035\n",
            "Epoch 10/100\n",
            "104/104 [==============================] - 0s 979us/step - loss: 12831.9160 - val_loss: 15431.8213\n",
            "Epoch 11/100\n",
            "104/104 [==============================] - 0s 984us/step - loss: 12268.9414 - val_loss: 15326.9268\n",
            "Epoch 12/100\n",
            "104/104 [==============================] - 0s 999us/step - loss: 11682.0049 - val_loss: 15173.8428\n",
            "Epoch 13/100\n",
            "104/104 [==============================] - 0s 1ms/step - loss: 11080.3740 - val_loss: 15003.6992\n",
            "Epoch 14/100\n",
            "104/104 [==============================] - 0s 989us/step - loss: 10470.8281 - val_loss: 14817.6699\n",
            "Epoch 15/100\n",
            "104/104 [==============================] - 0s 1ms/step - loss: 9860.3438 - val_loss: 14578.1318\n",
            "Epoch 16/100\n",
            "104/104 [==============================] - 0s 961us/step - loss: 9252.0938 - val_loss: 14306.9326\n",
            "Epoch 17/100\n",
            "104/104 [==============================] - 0s 1ms/step - loss: 8653.4609 - val_loss: 13990.6562\n",
            "Epoch 18/100\n",
            "104/104 [==============================] - 0s 964us/step - loss: 8066.6470 - val_loss: 13638.6055\n",
            "Epoch 19/100\n",
            "104/104 [==============================] - 0s 987us/step - loss: 7493.1704 - val_loss: 13231.1943\n",
            "Epoch 20/100\n",
            "104/104 [==============================] - 0s 1ms/step - loss: 6936.1675 - val_loss: 12777.5508\n",
            "Epoch 21/100\n",
            "104/104 [==============================] - 0s 975us/step - loss: 6396.4507 - val_loss: 12275.6680\n",
            "Epoch 22/100\n",
            "104/104 [==============================] - 0s 970us/step - loss: 5875.6377 - val_loss: 11732.8369\n",
            "Epoch 23/100\n",
            "104/104 [==============================] - 0s 1ms/step - loss: 5376.2754 - val_loss: 11151.6494\n",
            "Epoch 24/100\n",
            "104/104 [==============================] - 0s 958us/step - loss: 4896.1714 - val_loss: 10572.6797\n",
            "Epoch 25/100\n",
            "104/104 [==============================] - 0s 975us/step - loss: 4440.5723 - val_loss: 9941.6045\n",
            "Epoch 26/100\n",
            "104/104 [==============================] - 0s 971us/step - loss: 4006.0078 - val_loss: 9296.5557\n",
            "Epoch 27/100\n",
            "104/104 [==============================] - 0s 1ms/step - loss: 3595.7188 - val_loss: 8634.6133\n",
            "Epoch 28/100\n",
            "104/104 [==============================] - 0s 985us/step - loss: 3210.0234 - val_loss: 7975.2061\n",
            "Epoch 29/100\n",
            "104/104 [==============================] - 0s 1ms/step - loss: 2848.9802 - val_loss: 7314.7773\n",
            "Epoch 30/100\n",
            "104/104 [==============================] - 0s 1ms/step - loss: 2512.8281 - val_loss: 6665.9297\n",
            "Epoch 31/100\n",
            "104/104 [==============================] - 0s 1ms/step - loss: 2202.7234 - val_loss: 6039.3975\n",
            "Epoch 32/100\n",
            "104/104 [==============================] - 0s 972us/step - loss: 1917.7024 - val_loss: 5425.4624\n",
            "Epoch 33/100\n",
            "104/104 [==============================] - 0s 960us/step - loss: 1658.1135 - val_loss: 4858.3706\n",
            "Epoch 34/100\n",
            "104/104 [==============================] - 0s 1ms/step - loss: 1423.6207 - val_loss: 4328.5117\n",
            "Epoch 35/100\n",
            "104/104 [==============================] - 0s 1ms/step - loss: 1213.3060 - val_loss: 3817.8928\n",
            "Epoch 36/100\n",
            "104/104 [==============================] - 0s 995us/step - loss: 1027.2314 - val_loss: 3342.9417\n",
            "Epoch 37/100\n",
            "104/104 [==============================] - 0s 1ms/step - loss: 862.9726 - val_loss: 2912.8081\n",
            "Epoch 38/100\n",
            "104/104 [==============================] - 0s 962us/step - loss: 720.3602 - val_loss: 2525.0286\n",
            "Epoch 39/100\n",
            "104/104 [==============================] - 0s 990us/step - loss: 597.5022 - val_loss: 2173.9514\n",
            "Epoch 40/100\n",
            "104/104 [==============================] - 0s 959us/step - loss: 492.5675 - val_loss: 1869.8813\n",
            "Epoch 41/100\n",
            "104/104 [==============================] - 0s 963us/step - loss: 403.9373 - val_loss: 1599.1559\n",
            "Epoch 42/100\n",
            "104/104 [==============================] - 0s 1ms/step - loss: 330.0607 - val_loss: 1352.7838\n",
            "Epoch 43/100\n",
            "104/104 [==============================] - 0s 1ms/step - loss: 269.3229 - val_loss: 1145.4448\n",
            "Epoch 44/100\n",
            "104/104 [==============================] - 0s 950us/step - loss: 219.9895 - val_loss: 966.7376\n",
            "Epoch 45/100\n",
            "104/104 [==============================] - 0s 979us/step - loss: 180.2235 - val_loss: 817.2233\n",
            "Epoch 46/100\n",
            "104/104 [==============================] - 0s 986us/step - loss: 148.6410 - val_loss: 688.6642\n",
            "Epoch 47/100\n",
            "104/104 [==============================] - 0s 968us/step - loss: 123.8410 - val_loss: 582.2908\n",
            "Epoch 48/100\n",
            "104/104 [==============================] - 0s 1ms/step - loss: 104.5996 - val_loss: 497.4236\n",
            "Epoch 49/100\n",
            "104/104 [==============================] - 0s 991us/step - loss: 89.6563 - val_loss: 422.8104\n",
            "Epoch 50/100\n",
            "104/104 [==============================] - 0s 977us/step - loss: 78.2964 - val_loss: 366.9676\n",
            "Epoch 51/100\n",
            "104/104 [==============================] - 0s 989us/step - loss: 69.1873 - val_loss: 317.9333\n",
            "Epoch 52/100\n",
            "104/104 [==============================] - 0s 1ms/step - loss: 62.3656 - val_loss: 275.1905\n",
            "Epoch 53/100\n",
            "104/104 [==============================] - 0s 1ms/step - loss: 56.7941 - val_loss: 241.8514\n",
            "Epoch 54/100\n",
            "104/104 [==============================] - 0s 978us/step - loss: 52.3653 - val_loss: 211.3710\n",
            "Epoch 55/100\n",
            "104/104 [==============================] - 0s 1ms/step - loss: 48.7749 - val_loss: 188.9164\n",
            "Epoch 56/100\n",
            "104/104 [==============================] - 0s 972us/step - loss: 45.7176 - val_loss: 169.3533\n",
            "Epoch 57/100\n",
            "104/104 [==============================] - 0s 979us/step - loss: 43.1489 - val_loss: 153.3565\n",
            "Epoch 58/100\n",
            "104/104 [==============================] - 0s 1ms/step - loss: 40.7259 - val_loss: 138.2597\n",
            "Epoch 59/100\n",
            "104/104 [==============================] - 0s 970us/step - loss: 38.6837 - val_loss: 124.8383\n",
            "Epoch 60/100\n",
            "104/104 [==============================] - 0s 965us/step - loss: 36.7045 - val_loss: 115.4339\n",
            "Epoch 61/100\n",
            "104/104 [==============================] - 0s 1ms/step - loss: 34.9205 - val_loss: 104.1076\n",
            "Epoch 62/100\n",
            "104/104 [==============================] - 0s 1ms/step - loss: 33.3483 - val_loss: 96.8548\n",
            "Epoch 63/100\n",
            "104/104 [==============================] - 0s 1ms/step - loss: 31.7744 - val_loss: 89.6236\n",
            "Epoch 64/100\n",
            "104/104 [==============================] - 0s 1ms/step - loss: 30.3860 - val_loss: 81.4248\n",
            "Epoch 65/100\n",
            "104/104 [==============================] - 0s 996us/step - loss: 29.1014 - val_loss: 76.1605\n",
            "Epoch 66/100\n",
            "104/104 [==============================] - 0s 990us/step - loss: 27.9102 - val_loss: 70.2625\n",
            "Epoch 67/100\n",
            "104/104 [==============================] - 0s 993us/step - loss: 26.8868 - val_loss: 64.2596\n",
            "Epoch 68/100\n",
            "104/104 [==============================] - 0s 976us/step - loss: 25.8809 - val_loss: 59.6318\n",
            "Epoch 69/100\n",
            "104/104 [==============================] - 0s 1ms/step - loss: 25.0565 - val_loss: 55.6153\n",
            "Epoch 70/100\n",
            "104/104 [==============================] - 0s 969us/step - loss: 24.2640 - val_loss: 52.2792\n",
            "Epoch 71/100\n",
            "104/104 [==============================] - 0s 1ms/step - loss: 23.5497 - val_loss: 49.3968\n",
            "Epoch 72/100\n",
            "104/104 [==============================] - 0s 1ms/step - loss: 22.9677 - val_loss: 46.5667\n",
            "Epoch 73/100\n",
            "104/104 [==============================] - 0s 970us/step - loss: 22.4583 - val_loss: 44.6738\n",
            "Epoch 74/100\n",
            "104/104 [==============================] - 0s 991us/step - loss: 21.9824 - val_loss: 42.2022\n",
            "Epoch 75/100\n",
            "104/104 [==============================] - 0s 1ms/step - loss: 21.5897 - val_loss: 41.1271\n",
            "Epoch 76/100\n",
            "104/104 [==============================] - 0s 1ms/step - loss: 21.2207 - val_loss: 39.6647\n",
            "Epoch 77/100\n",
            "104/104 [==============================] - 0s 967us/step - loss: 20.9610 - val_loss: 38.7552\n",
            "Epoch 78/100\n",
            "104/104 [==============================] - 0s 1ms/step - loss: 20.7143 - val_loss: 37.9514\n",
            "Epoch 79/100\n",
            "104/104 [==============================] - 0s 965us/step - loss: 20.5194 - val_loss: 36.9392\n",
            "Epoch 80/100\n",
            "104/104 [==============================] - 0s 1ms/step - loss: 20.3729 - val_loss: 36.4383\n",
            "Epoch 81/100\n",
            "104/104 [==============================] - 0s 1ms/step - loss: 20.2623 - val_loss: 35.9640\n",
            "Epoch 82/100\n",
            "104/104 [==============================] - 0s 961us/step - loss: 20.1271 - val_loss: 35.4290\n",
            "Epoch 83/100\n",
            "104/104 [==============================] - 0s 955us/step - loss: 20.0185 - val_loss: 35.1526\n",
            "Epoch 84/100\n",
            "104/104 [==============================] - 0s 973us/step - loss: 19.9631 - val_loss: 35.0673\n",
            "Epoch 85/100\n",
            "104/104 [==============================] - 0s 971us/step - loss: 19.9104 - val_loss: 34.7823\n",
            "Epoch 86/100\n",
            "104/104 [==============================] - 0s 977us/step - loss: 19.8856 - val_loss: 34.6544\n",
            "Epoch 87/100\n",
            "104/104 [==============================] - 0s 1ms/step - loss: 19.8151 - val_loss: 34.7679\n"
          ],
          "name": "stdout"
        },
        {
          "output_type": "execute_result",
          "data": {
            "text/plain": [
              "<tensorflow.python.keras.callbacks.History at 0x7f8bb66cb9b0>"
            ]
          },
          "metadata": {
            "tags": []
          },
          "execution_count": 71
        }
      ]
    },
    {
      "cell_type": "code",
      "metadata": {
        "id": "LMv51uHc8-Nf",
        "colab_type": "code",
        "colab": {
          "base_uri": "https://localhost:8080/",
          "height": 50
        },
        "outputId": "f1cdfab3-e179-415d-beed-471e31cd8957"
      },
      "source": [
        "model.evaluate(test_inputs,test_targets)"
      ],
      "execution_count": 72,
      "outputs": [
        {
          "output_type": "stream",
          "text": [
            "7/7 [==============================] - 0s 2ms/step - loss: 25.4711\n"
          ],
          "name": "stdout"
        },
        {
          "output_type": "execute_result",
          "data": {
            "text/plain": [
              "25.471126556396484"
            ]
          },
          "metadata": {
            "tags": []
          },
          "execution_count": 72
        }
      ]
    },
    {
      "cell_type": "code",
      "metadata": {
        "id": "kqK_J4De9CnT",
        "colab_type": "code",
        "colab": {}
      },
      "source": [
        ""
      ],
      "execution_count": 95,
      "outputs": []
    },
    {
      "cell_type": "code",
      "metadata": {
        "id": "knLDte4h9Dpo",
        "colab_type": "code",
        "colab": {}
      },
      "source": [
        ""
      ],
      "execution_count": 95,
      "outputs": []
    },
    {
      "cell_type": "code",
      "metadata": {
        "id": "Ko_gOJLE9-ae",
        "colab_type": "code",
        "colab": {}
      },
      "source": [
        ""
      ],
      "execution_count": 73,
      "outputs": []
    },
    {
      "cell_type": "code",
      "metadata": {
        "id": "TRbMItzQ-x5P",
        "colab_type": "code",
        "colab": {}
      },
      "source": [
        ""
      ],
      "execution_count": 73,
      "outputs": []
    }
  ]
}